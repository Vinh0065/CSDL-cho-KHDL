{
 "cells": [
  {
   "cell_type": "markdown",
   "metadata": {},
   "source": [
    "Họ và tên : Hà Quang Vinh\n",
    "\n",
    "Mã sinh viên : 22174600065\n",
    "\n",
    "Lớp : DHKL16A2HN\n",
    "\n",
    "BÀI TẬP SQL CHƯƠNG 3\n",
    "\n"
   ]
  },
  {
   "cell_type": "markdown",
   "metadata": {},
   "source": [
    "#  Câu 1: viết câu lệnh SQL để tính sự tương quan giữa A và B theo công thức\n"
   ]
  },
  {
   "cell_type": "code",
   "execution_count": 12,
   "metadata": {},
   "outputs": [
    {
     "name": "stdout",
     "output_type": "stream",
     "text": [
      "Hệ số tương quan Pearson giữa A và B: 0.9921567416492215\n"
     ]
    }
   ],
   "source": [
    "import sqlite3\n",
    "import math\n",
    "\n",
    "# Tạo kết nối SQLite\n",
    "conn = sqlite3.connect(':memory:')\n",
    "\n",
    "# Đăng ký SQRT và POWER vào SQLite\n",
    "conn.create_function(\"SQRT\", 1, math.sqrt)\n",
    "conn.create_function(\"POWER\", 2, math.pow)\n",
    "\n",
    "# Tạo bảng và dữ liệu\n",
    "cursor = conn.cursor()\n",
    "cursor.execute('CREATE TABLE data (a REAL, b REAL)')\n",
    "cursor.executemany('INSERT INTO data (a, b) VALUES (?, ?)', [\n",
    "    (1, 2),\n",
    "    (2, 3),\n",
    "    (3, 6),\n",
    "    (4, 8),\n",
    "    (5, 10)\n",
    "])\n",
    "conn.commit()\n",
    "query = \"\"\"\n",
    "SELECT \n",
    "    (COUNT(*) * SUM(a * b) - SUM(a) * SUM(b)) / \n",
    "    (SQRT(COUNT(*) * SUM(a * a) - SUM(a) * SUM(a)) * \n",
    "     SQRT(COUNT(*) * SUM(b * b) - SUM(b) * SUM(b))) AS correlation\n",
    "FROM data;\n",
    "\"\"\"\n",
    "\n",
    "result = cursor.execute(query).fetchone()\n",
    "print(\"Hệ số tương quan Pearson giữa A và B:\", result[0])\n"
   ]
  },
  {
   "cell_type": "markdown",
   "metadata": {},
   "source": [
    "#  Câu 2:"
   ]
  },
  {
   "cell_type": "code",
   "execution_count": null,
   "metadata": {},
   "outputs": [
    {
     "name": "stdout",
     "output_type": "stream",
     "text": [
      "Chi-square theo mẫu xe:\n",
      "Score_Level  High  Low  Medium\n",
      "Model                         \n",
      "A               1    1       2\n",
      "B               2    1       1\n",
      "C               1    1       2\n",
      "Chi2 = 0.9000 | p-value = 0.9246\n",
      "\n",
      "Chi-square theo ngày:\n",
      "Score_Level  High  Low  Medium\n",
      "Day                           \n",
      "Day 1           2    0       1\n",
      "Day 2           1    0       2\n",
      "Day 3           1    1       1\n",
      "Day 4           0    2       1\n",
      "Chi2 = 6.2667 | p-value = 0.3940\n"
     ]
    }
   ],
   "source": [
    "import sqlite3\n",
    "import pandas as pd\n",
    "from scipy.stats import chi2_contingency\n",
    "\n",
    "# Kết nối SQLite trong bộ nhớ\n",
    "conn = sqlite3.connect(\":memory:\")\n",
    "cursor = conn.cursor()\n",
    "\n",
    "# Tạo bảng và thêm dữ liệu dạng rộng (Day, A, B, C)\n",
    "cursor.execute(\"\"\"\n",
    "CREATE TABLE scores (\n",
    "    Day TEXT,\n",
    "    A REAL,\n",
    "    B REAL,\n",
    "    C REAL\n",
    ")\n",
    "\"\"\")\n",
    "\n",
    "# Dữ liệu gốc\n",
    "data = [\n",
    "    (\"Day 1\", 8,   9,   7),\n",
    "    (\"Day 2\", 7.5, 8.5, 7),\n",
    "    (\"Day 3\", 6,   7,   8),\n",
    "    (\"Day 4\", 7,   6,   5)\n",
    "]\n",
    "cursor.executemany(\"INSERT INTO scores VALUES (?, ?, ?, ?)\", data)\n",
    "conn.commit()\n",
    "\n",
    "# Chuyển về long format bằng SQL: Day | Model | Score\n",
    "query_long = \"\"\"\n",
    "SELECT Day, 'A' AS Model, A AS Score FROM scores\n",
    "UNION ALL\n",
    "SELECT Day, 'B' AS Model, B AS Score FROM scores\n",
    "UNION ALL\n",
    "SELECT Day, 'C' AS Model, C AS Score FROM scores\n",
    "\"\"\"\n",
    "df_long = pd.read_sql_query(query_long, conn)\n",
    "\n",
    "# Phân loại điểm thành nhóm: Low / Medium / High\n",
    "def classify(score):\n",
    "    if score <= 6:\n",
    "        return 'Low'\n",
    "    elif score < 8:\n",
    "        return 'Medium'\n",
    "    else:\n",
    "        return 'High'\n",
    "\n",
    "df_long['Score_Level'] = df_long['Score'].apply(classify)\n",
    "\n",
    "\n",
    "contingency_model = pd.crosstab(df_long['Model'], df_long['Score_Level'])\n",
    "chi2_m, p_m, _, _ = chi2_contingency(contingency_model)\n",
    "\n",
    "\n",
    "contingency_day = pd.crosstab(df_long['Day'], df_long['Score_Level'])\n",
    "chi2_d, p_d, _, _ = chi2_contingency(contingency_day)\n",
    "\n",
    "# In kết quả\n",
    "print(\"Chi-square theo mẫu xe:\")\n",
    "print(contingency_model)\n",
    "print(f\"Chi2 = {chi2_m:.4f} | p-value = {p_m:.4f}\\n\")\n",
    "\n",
    "print(\"Chi-square theo ngày:\")\n",
    "print(contingency_day)\n",
    "print(f\"Chi2 = {chi2_d:.4f} | p-value = {p_d:.4f}\")\n"
   ]
  },
  {
   "cell_type": "markdown",
   "metadata": {},
   "source": [
    "-Nhận xét: Chi-square theo mẫu xe\n",
    "    \n",
    "Vì p-value = 0.9246 > 0.05, ta không bác bỏ giả thuyết H0.\n",
    "\n",
    "Không có sự khác biệt đáng kể giữa các mẫu A, B, C về mặt điểm số trong 4 ngày thử nghiệm.\n",
    "\n",
    "Kết luận: Kết quả không phụ thuộc vào mẫu xe.\n",
    "\n",
    "-Nhận xét: Chi-square theo ngày\n",
    "\n",
    "Vì p-value = 0.3940 > 0.05, ta không bác bỏ giả thuyết H0.\n",
    "\n",
    "Không có sự khác biệt đáng kể giữa các ngày thử nghiệm về mặt điểm số.\n",
    "\n",
    "Kết luận: Kết quả không phụ thuộc vào ngày.\n",
    "\n",
    "-> Kết quả thử nghiệm không phụ thuộc vào mẫu xe và cũng không phụ thuộc vào ngày."
   ]
  },
  {
   "cell_type": "markdown",
   "metadata": {},
   "source": [
    "#  Câu 3: Bảng flights(departure_time,…) chứa các giá trị thời gian dưới dạng số nguyên (ví dụ: 830 cho 8:30AM, 1445 cho 2:45 PM). Hãy chuyển đổi các giá trị này thành định dạng thời gian.\n"
   ]
  },
  {
   "cell_type": "code",
   "execution_count": 17,
   "metadata": {},
   "outputs": [
    {
     "name": "stdout",
     "output_type": "stream",
     "text": [
      "   id  departure_time formatted_time\n",
      "0   1             830          08:30\n",
      "1   2            1445          14:45\n",
      "2   3               5          00:05\n",
      "3   4               0          00:00\n",
      "4   5            1200          12:00\n",
      "5   6             945          09:45\n",
      "6   7            1310          13:10\n"
     ]
    }
   ],
   "source": [
    "import sqlite3\n",
    "import pandas as pd\n",
    "\n",
    "# Kết nối SQLite (trong bộ nhớ)\n",
    "conn = sqlite3.connect(\":memory:\")\n",
    "cursor = conn.cursor()\n",
    "\n",
    "# Tạo bảng flights và thêm dữ liệu mẫu\n",
    "cursor.execute(\"\"\"\n",
    "CREATE TABLE flights (\n",
    "    id INTEGER PRIMARY KEY,\n",
    "    departure_time INTEGER\n",
    ")\n",
    "\"\"\")\n",
    "\n",
    "# Dữ liệu mẫu\n",
    "sample_data = [\n",
    "    (1, 830),\n",
    "    (2, 1445),    \n",
    "    (3, 5),       \n",
    "    (4, 0),       \n",
    "    (5, 1200),   \n",
    "    (6, 945),     \n",
    "    (7, 1310)    \n",
    "]\n",
    "\n",
    "# Thêm dữ liệu vào bảng\n",
    "cursor.executemany(\"INSERT INTO flights (id, departure_time) VALUES (?, ?)\", sample_data)\n",
    "conn.commit()\n",
    "\n",
    "# Truy vấn: chuyển đổi departure_time sang định dạng HH:MM\n",
    "query = \"\"\"\n",
    "SELECT \n",
    "    id,\n",
    "    departure_time,\n",
    "    printf('%02d:%02d', departure_time / 100, departure_time % 100) AS formatted_time\n",
    "FROM flights\n",
    "\"\"\"\n",
    "\n",
    "# Đọc kết quả bằng pandas và hiển thị\n",
    "df = pd.read_sql_query(query, conn)\n",
    "print(df)\n"
   ]
  },
  {
   "cell_type": "markdown",
   "metadata": {},
   "source": [
    "#  Câu 4: Viết truy vấn SQL để tìm các ngoại lệ bằng cách sử dụng MAD. Một quy tắc chung là xem xét các giá trị ngoại lệ lớn hơn 1,5 lần so với giá trị MAD, trong đó x là số độ lệch chuẩn mà ta coi là có ý nghĩa."
   ]
  },
  {
   "cell_type": "code",
   "execution_count": null,
   "metadata": {},
   "outputs": [
    {
     "name": "stdout",
     "output_type": "stream",
     "text": [
      "Các giá trị ngoại lệ theo MAD:\n",
      "   id  value\n",
      "0   7    9.0\n",
      "1   8  200.0\n"
     ]
    }
   ],
   "source": [
    "import sqlite3\n",
    "import pandas as pd\n",
    "\n",
    "# Kết nối SQLite trong bộ nhớ\n",
    "conn = sqlite3.connect(\":memory:\")\n",
    "cursor = conn.cursor()\n",
    "\n",
    "# Tạo bảng và thêm dữ liệu mẫu\n",
    "cursor.execute(\"\"\"\n",
    "CREATE TABLE data (\n",
    "    id INTEGER PRIMARY KEY,\n",
    "    value REAL\n",
    ")\n",
    "\"\"\")\n",
    "values = [10, 12, 13, 11, 15, 14, 9, 200]  # 200 là ngoại lệ\n",
    "cursor.executemany(\"INSERT INTO data (value) VALUES (?)\", [(v,) for v in values])\n",
    "conn.commit()\n",
    "\n",
    "# Bước 1: Lấy giá trị và tính median\n",
    "df = pd.read_sql_query(\"SELECT * FROM data\", conn)\n",
    "median = df['value'].median()\n",
    "\n",
    "# Bước 2: Tạo bảng tạm tính |value - median|\n",
    "df['abs_dev'] = abs(df['value'] - median)\n",
    "df[['id', 'abs_dev']].to_sql(\"abs_dev\", conn, if_exists='replace', index=False)\n",
    "\n",
    "# Bước 3: Tính MAD (median của abs_dev)\n",
    "mad = df['abs_dev'].median()\n",
    "\n",
    "# Bước 4: Tìm các điểm có |value - median| > 1.5 * MAD bằng SQL\n",
    "threshold = 1.5 * mad\n",
    "query = f\"\"\"\n",
    "SELECT d.id, d.value\n",
    "FROM data d\n",
    "JOIN abs_dev a ON d.id = a.id\n",
    "WHERE a.abs_dev > {threshold}\n",
    "\"\"\"\n",
    "\n",
    "outliers = pd.read_sql_query(query, conn)\n",
    "print(\"Các giá trị ngoại lệ theo MAD:\")\n",
    "print(outliers)\n"
   ]
  },
  {
   "cell_type": "markdown",
   "metadata": {},
   "source": [
    "#  Câu 5: Hãy xác định liệu hai người trong bảng Patient(last_name, weight, height) có phải là một người hay không bằng cách sử dụng khoảng cách kết hợp Boolean trên “last_name” và “weight”."
   ]
  },
  {
   "cell_type": "code",
   "execution_count": 20,
   "metadata": {},
   "outputs": [
    {
     "name": "stdout",
     "output_type": "stream",
     "text": [
      "  last_name1 last_name2  weight1  weight2  last_name_dist  weight_dist  \\\n",
      "0         Ha     Nguyen       60       60               1            0   \n",
      "1         Ha       Tran       60       55               1            1   \n",
      "2         Ha         Le       60       60               1            0   \n",
      "3         Ha     Nguyen       60       58               1            1   \n",
      "4     Nguyen       Tran       60       55               1            1   \n",
      "5     Nguyen         Le       60       60               1            0   \n",
      "6     Nguyen     Nguyen       60       58               0            1   \n",
      "7       Tran         Le       55       60               1            1   \n",
      "8       Tran     Nguyen       55       58               1            1   \n",
      "9         Le     Nguyen       60       58               1            1   \n",
      "\n",
      "   total_distance     result  \n",
      "0               1  Different  \n",
      "1               2  Different  \n",
      "2               1  Different  \n",
      "3               2  Different  \n",
      "4               2  Different  \n",
      "5               1  Different  \n",
      "6               1  Different  \n",
      "7               2  Different  \n",
      "8               2  Different  \n",
      "9               2  Different  \n"
     ]
    }
   ],
   "source": [
    "import sqlite3\n",
    "import pandas as pd\n",
    "\n",
    "# Tạo kết nối SQLite trong bộ nhớ\n",
    "conn = sqlite3.connect(\":memory:\")\n",
    "cursor = conn.cursor()\n",
    "\n",
    "# Tạo bảng Patient và thêm dữ liệu mẫu\n",
    "cursor.execute(\"\"\"\n",
    "CREATE TABLE Patient (\n",
    "    last_name TEXT,\n",
    "    weight INTEGER,\n",
    "    height REAL\n",
    ")\n",
    "\"\"\")\n",
    "\n",
    "patients = [\n",
    "    ('Ha', 60, 165),\n",
    "    ('Nguyen', 60, 168),  # cùng họ và cân nặng → có thể cùng người\n",
    "    ('Tran', 55, 160),\n",
    "    ('Le', 60, 170),\n",
    "    ('Nguyen', 58, 165)   # gần giống nhưng cân nặng khác\n",
    "]\n",
    "cursor.executemany(\"INSERT INTO Patient VALUES (?, ?, ?)\", patients)\n",
    "conn.commit()\n",
    "\n",
    "# Thực hiện truy vấn so sánh khoảng cách Boolean\n",
    "query = \"\"\"\n",
    "SELECT \n",
    "    p1.last_name AS last_name1, p2.last_name AS last_name2,\n",
    "    p1.weight AS weight1, p2.weight AS weight2,\n",
    "    CASE WHEN p1.last_name = p2.last_name THEN 0 ELSE 1 END AS last_name_dist,\n",
    "    CASE WHEN p1.weight = p2.weight THEN 0 ELSE 1 END AS weight_dist,\n",
    "    (CASE WHEN p1.last_name = p2.last_name THEN 0 ELSE 1 END + \n",
    "     CASE WHEN p1.weight = p2.weight THEN 0 ELSE 1 END) AS total_distance,\n",
    "    CASE \n",
    "        WHEN (p1.last_name = p2.last_name AND p1.weight = p2.weight) THEN 'Same person'\n",
    "        ELSE 'Different'\n",
    "    END AS result\n",
    "FROM Patient p1\n",
    "JOIN Patient p2 ON p1.rowid < p2.rowid\n",
    "\"\"\"\n",
    "\n",
    "# Lấy kết quả và hiển thị\n",
    "df_result = pd.read_sql_query(query, conn)\n",
    "print(df_result)\n"
   ]
  }
 ],
 "metadata": {
  "kernelspec": {
   "display_name": "base",
   "language": "python",
   "name": "python3"
  },
  "language_info": {
   "codemirror_mode": {
    "name": "ipython",
    "version": 3
   },
   "file_extension": ".py",
   "mimetype": "text/x-python",
   "name": "python",
   "nbconvert_exporter": "python",
   "pygments_lexer": "ipython3",
   "version": "3.12.7"
  }
 },
 "nbformat": 4,
 "nbformat_minor": 2
}
